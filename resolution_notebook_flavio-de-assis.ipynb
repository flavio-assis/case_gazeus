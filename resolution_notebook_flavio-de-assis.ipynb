{
 "cells": [
  {
   "cell_type": "markdown",
   "metadata": {},
   "source": [
    "# Project Title <img src=\"https://media.licdn.com/dms/image/C4E0BAQFJk4Ibe9N3lg/company-logo_400_400/0?e=1576108800&v=beta&t=aWqzP3WNVsDqWJVyqZrWMY86jlCjtnVZ1-AbKzUFzfI\" width=26 height=26 align=\"right\"> </a>\n",
    "\n"
   ]
  },
  {
   "cell_type": "markdown",
   "metadata": {},
   "source": [
    "Case de Flávio de Assis para a vaga de Engenheiro de Dados. Esse notebook responderá aos questionamentos definidos pelo case."
   ]
  },
  {
   "cell_type": "markdown",
   "metadata": {},
   "source": [
    "### Fonte de Dados\n",
    "<ul>\n",
    "    <li> gazeus_data.csv - CSV fornecido pela empresa com dados reais de utilização de clientes"
   ]
  },
  {
   "cell_type": "code",
   "execution_count": 1,
   "metadata": {},
   "outputs": [],
   "source": [
    "import pandas as pd\n",
    "import numpy as np\n",
    "from datetime import datetime, timedelta\n",
    "import matplotlib.pyplot as plt\n",
    "%matplotlib inline"
   ]
  },
  {
   "cell_type": "markdown",
   "metadata": {},
   "source": [
    "### Localização do arquivo"
   ]
  },
  {
   "cell_type": "code",
   "execution_count": 2,
   "metadata": {},
   "outputs": [],
   "source": [
    "file_url = 'files/gazeus_data.csv'\n",
    "df = pd.read_csv(file_url, low_memory=False)"
   ]
  },
  {
   "cell_type": "markdown",
   "metadata": {},
   "source": [
    "### Overview dos Dados"
   ]
  },
  {
   "cell_type": "code",
   "execution_count": 3,
   "metadata": {},
   "outputs": [
    {
     "data": {
      "text/html": [
       "<div>\n",
       "<style scoped>\n",
       "    .dataframe tbody tr th:only-of-type {\n",
       "        vertical-align: middle;\n",
       "    }\n",
       "\n",
       "    .dataframe tbody tr th {\n",
       "        vertical-align: top;\n",
       "    }\n",
       "\n",
       "    .dataframe thead th {\n",
       "        text-align: right;\n",
       "    }\n",
       "</style>\n",
       "<table border=\"1\" class=\"dataframe\">\n",
       "  <thead>\n",
       "    <tr style=\"text-align: right;\">\n",
       "      <th></th>\n",
       "      <th>app_name</th>\n",
       "      <th>created_at_date</th>\n",
       "      <th>installed_at_date</th>\n",
       "      <th>event_name</th>\n",
       "      <th>event_code</th>\n",
       "      <th>country</th>\n",
       "      <th>user_id</th>\n",
       "    </tr>\n",
       "  </thead>\n",
       "  <tbody>\n",
       "    <tr>\n",
       "      <td>0</td>\n",
       "      <td>BURACO_ANDROID</td>\n",
       "      <td>2019-09-01 00:43:57</td>\n",
       "      <td>2019-08-30 19:03:36</td>\n",
       "      <td>impression_standard</td>\n",
       "      <td>0db601a32123556ffaec586e32fb51f7c293124b</td>\n",
       "      <td>br</td>\n",
       "      <td>0</td>\n",
       "    </tr>\n",
       "    <tr>\n",
       "      <td>1</td>\n",
       "      <td>BURACO_ANDROID</td>\n",
       "      <td>2019-09-03 01:55:02</td>\n",
       "      <td>2019-09-03 01:15:52</td>\n",
       "      <td>impression_standard</td>\n",
       "      <td>0db601a32123556ffaec586e32fb51f7c293124b</td>\n",
       "      <td>br</td>\n",
       "      <td>1</td>\n",
       "    </tr>\n",
       "    <tr>\n",
       "      <td>2</td>\n",
       "      <td>BURACO_ANDROID</td>\n",
       "      <td>2019-09-01 00:32:05</td>\n",
       "      <td>2019-08-31 14:01:49</td>\n",
       "      <td>impression_standard</td>\n",
       "      <td>0db601a32123556ffaec586e32fb51f7c293124b</td>\n",
       "      <td>br</td>\n",
       "      <td>2</td>\n",
       "    </tr>\n",
       "    <tr>\n",
       "      <td>3</td>\n",
       "      <td>BURACO_ANDROID</td>\n",
       "      <td>2019-09-01 00:35:06</td>\n",
       "      <td>2019-08-30 02:00:45</td>\n",
       "      <td>impression_standard</td>\n",
       "      <td>0db601a32123556ffaec586e32fb51f7c293124b</td>\n",
       "      <td>br</td>\n",
       "      <td>3</td>\n",
       "    </tr>\n",
       "    <tr>\n",
       "      <td>4</td>\n",
       "      <td>BURACO_ANDROID</td>\n",
       "      <td>2019-09-01 00:04:40</td>\n",
       "      <td>2019-08-27 21:22:26</td>\n",
       "      <td>impression_standard</td>\n",
       "      <td>0db601a32123556ffaec586e32fb51f7c293124b</td>\n",
       "      <td>br</td>\n",
       "      <td>4</td>\n",
       "    </tr>\n",
       "  </tbody>\n",
       "</table>\n",
       "</div>"
      ],
      "text/plain": [
       "         app_name      created_at_date    installed_at_date  \\\n",
       "0  BURACO_ANDROID  2019-09-01 00:43:57  2019-08-30 19:03:36   \n",
       "1  BURACO_ANDROID  2019-09-03 01:55:02  2019-09-03 01:15:52   \n",
       "2  BURACO_ANDROID  2019-09-01 00:32:05  2019-08-31 14:01:49   \n",
       "3  BURACO_ANDROID  2019-09-01 00:35:06  2019-08-30 02:00:45   \n",
       "4  BURACO_ANDROID  2019-09-01 00:04:40  2019-08-27 21:22:26   \n",
       "\n",
       "            event_name                                event_code country  \\\n",
       "0  impression_standard  0db601a32123556ffaec586e32fb51f7c293124b      br   \n",
       "1  impression_standard  0db601a32123556ffaec586e32fb51f7c293124b      br   \n",
       "2  impression_standard  0db601a32123556ffaec586e32fb51f7c293124b      br   \n",
       "3  impression_standard  0db601a32123556ffaec586e32fb51f7c293124b      br   \n",
       "4  impression_standard  0db601a32123556ffaec586e32fb51f7c293124b      br   \n",
       "\n",
       "  user_id  \n",
       "0       0  \n",
       "1       1  \n",
       "2       2  \n",
       "3       3  \n",
       "4       4  "
      ]
     },
     "execution_count": 3,
     "metadata": {},
     "output_type": "execute_result"
    }
   ],
   "source": [
    "df.head()"
   ]
  },
  {
   "cell_type": "code",
   "execution_count": 4,
   "metadata": {},
   "outputs": [
    {
     "data": {
      "text/plain": [
       "app_name             object\n",
       "created_at_date      object\n",
       "installed_at_date    object\n",
       "event_name           object\n",
       "event_code           object\n",
       "country              object\n",
       "user_id              object\n",
       "dtype: object"
      ]
     },
     "execution_count": 4,
     "metadata": {},
     "output_type": "execute_result"
    }
   ],
   "source": [
    "df.dtypes"
   ]
  },
  {
   "cell_type": "code",
   "execution_count": 5,
   "metadata": {},
   "outputs": [
    {
     "data": {
      "text/plain": [
       "(1000000, 7)"
      ]
     },
     "execution_count": 5,
     "metadata": {},
     "output_type": "execute_result"
    }
   ],
   "source": [
    "df.shape"
   ]
  },
  {
   "cell_type": "markdown",
   "metadata": {},
   "source": [
    "### Perguntas:\n",
    "\n",
    "O case deve ter 6 perguntas respondidas, são elas:\n",
    "\n",
    "<ol>\n",
    "    <li> Quantos usuários estão presentes nesta massa? Quantos eventos? (responda com os números e qualquer código que tenha gerado para chegar a eles)</li>\n",
    "\n",
    "<li>Qual plataforma tem mais sessões de jogo? Considere que a plataforma faz parte do app_name, podendo ser “ANDROID” ou “IPHONE”</li>\n",
    "\n",
    "<li>Quantos usuários que assistiram o tutorial abandonaram o jogo e quantos permaneceram? Considere abandono aquele usuário que não teve mais eventos após jogar por 3 dias ou mais.\n",
    "LEGENDA: \"tutorial_start\" significa começou o tutorial tutorial_end\" significa terminou tutorial com sucesso, \"tutorial_quit\" é abandonou o tutorial\n",
    "OBS: queremos abandono DO JOGO, não do tutorial</li>\n",
    "\n",
    "<li>Quais são os usuário que jogaram até 5 dias e pararam? Providencie o código em Python que retorne uma lista com os user_id apropriados e quanto tempo cada um jogou em horas.</li>\n",
    "\n",
    "<li>Qual a média e desvio padrão de tempo jogado (em horas) do subconjunto que você gerou acima?</li>\n",
    "\n",
    "<li>Considerando que uma partida é o intervalo entre um evento de match_start e match_end de um mesmo usuário e levando em conta ainda que a quantidade de match_start e match_end podem não ser iguais (você pode definir o tratamento que achar mais conveniente para chegar a um resultado, descreva-o na solução): Qual é o tempo médio entre as partidas e o desvio padrão?</li>\n"
   ]
  },
  {
   "cell_type": "markdown",
   "metadata": {},
   "source": [
    "### Estratégia de Resolução"
   ]
  },
  {
   "cell_type": "markdown",
   "metadata": {},
   "source": [
    "Para a pergunta 1, deve-se contabillizar o número único de user_id presentes no dataset. Para responder a pergunta de quantos eventos, basta contabilizar o número total de linhas válidas na tabela, uma vez que cada uma represeta um evento."
   ]
  },
  {
   "cell_type": "markdown",
   "metadata": {},
   "source": [
    "### Limpeza do dado:\n",
    "\n",
    "Para verificar a qualidade das variáveis categóricas, verifica-se os valores únicos presentes no DataFrame para estas colunas"
   ]
  },
  {
   "cell_type": "code",
   "execution_count": 6,
   "metadata": {},
   "outputs": [
    {
     "name": "stdout",
     "output_type": "stream",
     "text": [
      "BURACO_ANDROID\n",
      "SPADES_IPHONE\n",
      "BURACO_IPHONE\n",
      "SPADES_ANDROID\n",
      "BURACO-ANDROID\n"
     ]
    }
   ],
   "source": [
    "for i in df['app_name'].unique():\n",
    "    print(i)"
   ]
  },
  {
   "cell_type": "code",
   "execution_count": 7,
   "metadata": {},
   "outputs": [
    {
     "name": "stdout",
     "output_type": "stream",
     "text": [
      "impression_standard\n",
      "match_end\n",
      "match_start\n",
      "match_quit\n",
      "tutorial_start\n",
      "tutorial_quit\n",
      "tutorial_end\n",
      "match(_end\n",
      "match_)end\n"
     ]
    }
   ],
   "source": [
    "for i in df['event_name'].unique():\n",
    "    print(i)"
   ]
  },
  {
   "cell_type": "code",
   "execution_count": 8,
   "metadata": {},
   "outputs": [
    {
     "name": "stdout",
     "output_type": "stream",
     "text": [
      "0db601a32123556ffaec586e32fb51f7c293124b\n",
      "8e96f5ed27fb1511a7a0e4785eef276a8a543f36\n",
      "0815ffebc19b4bfca409284fff97376b574b67ce\n",
      "78278a4d1aa7ab1300e24e0a2f75ffc1bc21e604\n",
      "86c914c92e664c4b9f26dbc98eff283492967ccd\n",
      "ab7faf2810718e30a095c6fe36b7a267367625bc\n",
      "4eff55d3d6e1636a75548de1e387439fdbcfb1c5\n",
      "b471abe61ebcd5b468c180e4947166df86125cf7\n",
      "0799dd02335be65d8a71f5f3d6d473456dcb3c2c\n",
      "bdb223890d3a9b5d65563c9d71e977eebbc27e06\n",
      "9b9a5014c642d827d3d11d07ceb0936f950c377d\n",
      "76b5ede3ae7edbef4fb55521eb2f9662fd5a95c7\n",
      "f8343507810b98d36d907f5c70609b86392ff062\n",
      "efe9d3a0cf169d7e3c60e7150a59aa8b49a1f3e1\n"
     ]
    }
   ],
   "source": [
    "for i in df['event_code'].unique():\n",
    "    print(i)"
   ]
  },
  {
   "cell_type": "code",
   "execution_count": 9,
   "metadata": {},
   "outputs": [
    {
     "name": "stdout",
     "output_type": "stream",
     "text": [
      "br\n",
      "us\n",
      "ar\n",
      "pt\n",
      "tr\n",
      "pe\n",
      "ae\n",
      "ir\n",
      "vi\n",
      "au\n",
      "es\n",
      "gr\n",
      "ca\n",
      "ge\n",
      "de\n",
      "qa\n",
      "py\n",
      "vn\n",
      "co\n",
      "jp\n",
      "uy\n",
      "cl\n",
      "pr\n",
      "cy\n",
      "it\n",
      "in\n",
      "mm\n",
      "mx\n",
      "gb\n",
      "sa\n",
      "bo\n",
      "ve\n",
      "th\n",
      "cn\n",
      "ht\n",
      "lb\n",
      "do\n",
      "iq\n",
      "ie\n",
      "rs\n",
      "fr\n",
      "nl\n",
      "bd\n",
      "az\n",
      "ao\n",
      "sy\n",
      "nz\n",
      "se\n",
      "om\n",
      "ee\n",
      "ch\n",
      "bg\n",
      "ma\n",
      "eg\n"
     ]
    }
   ],
   "source": [
    "for i in df['country'].unique():\n",
    "    print(i)"
   ]
  },
  {
   "cell_type": "markdown",
   "metadata": {},
   "source": [
    "Aparentemente existem mais de um código de evento para cada nome.\n",
    "Por que?\n",
    "<br>De qualquer forma, existem erros de sintaxe em <b>app_name</b> e em <b>event_name</b> que devem ser corrigido para que as futuras análises não sejam impactadas."
   ]
  },
  {
   "cell_type": "code",
   "execution_count": 10,
   "metadata": {},
   "outputs": [],
   "source": [
    "df.loc[(df['app_name']) == 'BURACO-ANDROID', 'app_name'] = 'BURACO_ANDROID'"
   ]
  },
  {
   "cell_type": "code",
   "execution_count": 11,
   "metadata": {},
   "outputs": [
    {
     "name": "stdout",
     "output_type": "stream",
     "text": [
      "BURACO_ANDROID\n",
      "SPADES_IPHONE\n",
      "BURACO_IPHONE\n",
      "SPADES_ANDROID\n"
     ]
    }
   ],
   "source": [
    "for i in df['app_name'].unique():\n",
    "    print(i)"
   ]
  },
  {
   "cell_type": "code",
   "execution_count": 12,
   "metadata": {},
   "outputs": [],
   "source": [
    "df.loc[(df['event_name']).isin(['match_)end','match(_end']), 'event_name'] = 'match_end'"
   ]
  },
  {
   "cell_type": "code",
   "execution_count": 13,
   "metadata": {},
   "outputs": [
    {
     "name": "stdout",
     "output_type": "stream",
     "text": [
      "impression_standard\n",
      "match_end\n",
      "match_start\n",
      "match_quit\n",
      "tutorial_start\n",
      "tutorial_quit\n",
      "tutorial_end\n"
     ]
    }
   ],
   "source": [
    "for i in df['event_name'].unique():\n",
    "    print(i)"
   ]
  },
  {
   "cell_type": "code",
   "execution_count": 14,
   "metadata": {
    "scrolled": true
   },
   "outputs": [
    {
     "data": {
      "text/html": [
       "<div>\n",
       "<style scoped>\n",
       "    .dataframe tbody tr th:only-of-type {\n",
       "        vertical-align: middle;\n",
       "    }\n",
       "\n",
       "    .dataframe tbody tr th {\n",
       "        vertical-align: top;\n",
       "    }\n",
       "\n",
       "    .dataframe thead th {\n",
       "        text-align: right;\n",
       "    }\n",
       "</style>\n",
       "<table border=\"1\" class=\"dataframe\">\n",
       "  <thead>\n",
       "    <tr style=\"text-align: right;\">\n",
       "      <th></th>\n",
       "      <th></th>\n",
       "      <th>app_name</th>\n",
       "    </tr>\n",
       "    <tr>\n",
       "      <th>event_name</th>\n",
       "      <th>event_code</th>\n",
       "      <th></th>\n",
       "    </tr>\n",
       "  </thead>\n",
       "  <tbody>\n",
       "    <tr>\n",
       "      <td rowspan=\"2\" valign=\"top\">impression_standard</td>\n",
       "      <td>0db601a32123556ffaec586e32fb51f7c293124b</td>\n",
       "      <td>789457</td>\n",
       "    </tr>\n",
       "    <tr>\n",
       "      <td>8e96f5ed27fb1511a7a0e4785eef276a8a543f36</td>\n",
       "      <td>60099</td>\n",
       "    </tr>\n",
       "    <tr>\n",
       "      <td rowspan=\"2\" valign=\"top\">match_end</td>\n",
       "      <td>0815ffebc19b4bfca409284fff97376b574b67ce</td>\n",
       "      <td>76611</td>\n",
       "    </tr>\n",
       "    <tr>\n",
       "      <td>b471abe61ebcd5b468c180e4947166df86125cf7</td>\n",
       "      <td>2044</td>\n",
       "    </tr>\n",
       "    <tr>\n",
       "      <td rowspan=\"2\" valign=\"top\">match_quit</td>\n",
       "      <td>86c914c92e664c4b9f26dbc98eff283492967ccd</td>\n",
       "      <td>1158</td>\n",
       "    </tr>\n",
       "    <tr>\n",
       "      <td>ab7faf2810718e30a095c6fe36b7a267367625bc</td>\n",
       "      <td>7513</td>\n",
       "    </tr>\n",
       "    <tr>\n",
       "      <td rowspan=\"2\" valign=\"top\">match_start</td>\n",
       "      <td>0799dd02335be65d8a71f5f3d6d473456dcb3c2c</td>\n",
       "      <td>3796</td>\n",
       "    </tr>\n",
       "    <tr>\n",
       "      <td>78278a4d1aa7ab1300e24e0a2f75ffc1bc21e604</td>\n",
       "      <td>48898</td>\n",
       "    </tr>\n",
       "    <tr>\n",
       "      <td rowspan=\"2\" valign=\"top\">tutorial_end</td>\n",
       "      <td>9b9a5014c642d827d3d11d07ceb0936f950c377d</td>\n",
       "      <td>2423</td>\n",
       "    </tr>\n",
       "    <tr>\n",
       "      <td>efe9d3a0cf169d7e3c60e7150a59aa8b49a1f3e1</td>\n",
       "      <td>288</td>\n",
       "    </tr>\n",
       "    <tr>\n",
       "      <td rowspan=\"2\" valign=\"top\">tutorial_quit</td>\n",
       "      <td>76b5ede3ae7edbef4fb55521eb2f9662fd5a95c7</td>\n",
       "      <td>2242</td>\n",
       "    </tr>\n",
       "    <tr>\n",
       "      <td>bdb223890d3a9b5d65563c9d71e977eebbc27e06</td>\n",
       "      <td>278</td>\n",
       "    </tr>\n",
       "    <tr>\n",
       "      <td rowspan=\"2\" valign=\"top\">tutorial_start</td>\n",
       "      <td>4eff55d3d6e1636a75548de1e387439fdbcfb1c5</td>\n",
       "      <td>4615</td>\n",
       "    </tr>\n",
       "    <tr>\n",
       "      <td>f8343507810b98d36d907f5c70609b86392ff062</td>\n",
       "      <td>578</td>\n",
       "    </tr>\n",
       "  </tbody>\n",
       "</table>\n",
       "</div>"
      ],
      "text/plain": [
       "                                                              app_name\n",
       "event_name          event_code                                        \n",
       "impression_standard 0db601a32123556ffaec586e32fb51f7c293124b    789457\n",
       "                    8e96f5ed27fb1511a7a0e4785eef276a8a543f36     60099\n",
       "match_end           0815ffebc19b4bfca409284fff97376b574b67ce     76611\n",
       "                    b471abe61ebcd5b468c180e4947166df86125cf7      2044\n",
       "match_quit          86c914c92e664c4b9f26dbc98eff283492967ccd      1158\n",
       "                    ab7faf2810718e30a095c6fe36b7a267367625bc      7513\n",
       "match_start         0799dd02335be65d8a71f5f3d6d473456dcb3c2c      3796\n",
       "                    78278a4d1aa7ab1300e24e0a2f75ffc1bc21e604     48898\n",
       "tutorial_end        9b9a5014c642d827d3d11d07ceb0936f950c377d      2423\n",
       "                    efe9d3a0cf169d7e3c60e7150a59aa8b49a1f3e1       288\n",
       "tutorial_quit       76b5ede3ae7edbef4fb55521eb2f9662fd5a95c7      2242\n",
       "                    bdb223890d3a9b5d65563c9d71e977eebbc27e06       278\n",
       "tutorial_start      4eff55d3d6e1636a75548de1e387439fdbcfb1c5      4615\n",
       "                    f8343507810b98d36d907f5c70609b86392ff062       578"
      ]
     },
     "execution_count": 14,
     "metadata": {},
     "output_type": "execute_result"
    }
   ],
   "source": [
    "df[[ 'app_name', 'event_name', 'event_code']].groupby(by=['event_name', 'event_code']).count()"
   ]
  },
  {
   "cell_type": "markdown",
   "metadata": {},
   "source": [
    "Aparentemente há então dois códigos para cada evento. \n",
    "Por que? Seriam estes códigos únicos dependendo da plataforma do APP?\n",
    "\n",
    "<p> Deve-se construir uma coluna com a plataforma do APP, para que dessa forma as análises futuras sejam possíveis."
   ]
  },
  {
   "cell_type": "code",
   "execution_count": 15,
   "metadata": {},
   "outputs": [],
   "source": [
    "df['platform'] = df.copy()['app_name'].map(lambda row: row.split('_')[1])"
   ]
  },
  {
   "cell_type": "code",
   "execution_count": 16,
   "metadata": {},
   "outputs": [
    {
     "data": {
      "text/html": [
       "<div>\n",
       "<style scoped>\n",
       "    .dataframe tbody tr th:only-of-type {\n",
       "        vertical-align: middle;\n",
       "    }\n",
       "\n",
       "    .dataframe tbody tr th {\n",
       "        vertical-align: top;\n",
       "    }\n",
       "\n",
       "    .dataframe thead th {\n",
       "        text-align: right;\n",
       "    }\n",
       "</style>\n",
       "<table border=\"1\" class=\"dataframe\">\n",
       "  <thead>\n",
       "    <tr style=\"text-align: right;\">\n",
       "      <th></th>\n",
       "      <th>app_name</th>\n",
       "      <th>created_at_date</th>\n",
       "      <th>installed_at_date</th>\n",
       "      <th>event_name</th>\n",
       "      <th>event_code</th>\n",
       "      <th>country</th>\n",
       "      <th>user_id</th>\n",
       "      <th>platform</th>\n",
       "    </tr>\n",
       "  </thead>\n",
       "  <tbody>\n",
       "    <tr>\n",
       "      <td>0</td>\n",
       "      <td>BURACO_ANDROID</td>\n",
       "      <td>2019-09-01 00:43:57</td>\n",
       "      <td>2019-08-30 19:03:36</td>\n",
       "      <td>impression_standard</td>\n",
       "      <td>0db601a32123556ffaec586e32fb51f7c293124b</td>\n",
       "      <td>br</td>\n",
       "      <td>0</td>\n",
       "      <td>ANDROID</td>\n",
       "    </tr>\n",
       "    <tr>\n",
       "      <td>1</td>\n",
       "      <td>BURACO_ANDROID</td>\n",
       "      <td>2019-09-03 01:55:02</td>\n",
       "      <td>2019-09-03 01:15:52</td>\n",
       "      <td>impression_standard</td>\n",
       "      <td>0db601a32123556ffaec586e32fb51f7c293124b</td>\n",
       "      <td>br</td>\n",
       "      <td>1</td>\n",
       "      <td>ANDROID</td>\n",
       "    </tr>\n",
       "    <tr>\n",
       "      <td>2</td>\n",
       "      <td>BURACO_ANDROID</td>\n",
       "      <td>2019-09-01 00:32:05</td>\n",
       "      <td>2019-08-31 14:01:49</td>\n",
       "      <td>impression_standard</td>\n",
       "      <td>0db601a32123556ffaec586e32fb51f7c293124b</td>\n",
       "      <td>br</td>\n",
       "      <td>2</td>\n",
       "      <td>ANDROID</td>\n",
       "    </tr>\n",
       "    <tr>\n",
       "      <td>3</td>\n",
       "      <td>BURACO_ANDROID</td>\n",
       "      <td>2019-09-01 00:35:06</td>\n",
       "      <td>2019-08-30 02:00:45</td>\n",
       "      <td>impression_standard</td>\n",
       "      <td>0db601a32123556ffaec586e32fb51f7c293124b</td>\n",
       "      <td>br</td>\n",
       "      <td>3</td>\n",
       "      <td>ANDROID</td>\n",
       "    </tr>\n",
       "    <tr>\n",
       "      <td>4</td>\n",
       "      <td>BURACO_ANDROID</td>\n",
       "      <td>2019-09-01 00:04:40</td>\n",
       "      <td>2019-08-27 21:22:26</td>\n",
       "      <td>impression_standard</td>\n",
       "      <td>0db601a32123556ffaec586e32fb51f7c293124b</td>\n",
       "      <td>br</td>\n",
       "      <td>4</td>\n",
       "      <td>ANDROID</td>\n",
       "    </tr>\n",
       "  </tbody>\n",
       "</table>\n",
       "</div>"
      ],
      "text/plain": [
       "         app_name      created_at_date    installed_at_date  \\\n",
       "0  BURACO_ANDROID  2019-09-01 00:43:57  2019-08-30 19:03:36   \n",
       "1  BURACO_ANDROID  2019-09-03 01:55:02  2019-09-03 01:15:52   \n",
       "2  BURACO_ANDROID  2019-09-01 00:32:05  2019-08-31 14:01:49   \n",
       "3  BURACO_ANDROID  2019-09-01 00:35:06  2019-08-30 02:00:45   \n",
       "4  BURACO_ANDROID  2019-09-01 00:04:40  2019-08-27 21:22:26   \n",
       "\n",
       "            event_name                                event_code country  \\\n",
       "0  impression_standard  0db601a32123556ffaec586e32fb51f7c293124b      br   \n",
       "1  impression_standard  0db601a32123556ffaec586e32fb51f7c293124b      br   \n",
       "2  impression_standard  0db601a32123556ffaec586e32fb51f7c293124b      br   \n",
       "3  impression_standard  0db601a32123556ffaec586e32fb51f7c293124b      br   \n",
       "4  impression_standard  0db601a32123556ffaec586e32fb51f7c293124b      br   \n",
       "\n",
       "  user_id platform  \n",
       "0       0  ANDROID  \n",
       "1       1  ANDROID  \n",
       "2       2  ANDROID  \n",
       "3       3  ANDROID  \n",
       "4       4  ANDROID  "
      ]
     },
     "execution_count": 16,
     "metadata": {},
     "output_type": "execute_result"
    }
   ],
   "source": [
    "df.head()"
   ]
  },
  {
   "cell_type": "code",
   "execution_count": 17,
   "metadata": {},
   "outputs": [
    {
     "data": {
      "text/html": [
       "<div>\n",
       "<style scoped>\n",
       "    .dataframe tbody tr th:only-of-type {\n",
       "        vertical-align: middle;\n",
       "    }\n",
       "\n",
       "    .dataframe tbody tr th {\n",
       "        vertical-align: top;\n",
       "    }\n",
       "\n",
       "    .dataframe thead th {\n",
       "        text-align: right;\n",
       "    }\n",
       "</style>\n",
       "<table border=\"1\" class=\"dataframe\">\n",
       "  <thead>\n",
       "    <tr style=\"text-align: right;\">\n",
       "      <th></th>\n",
       "      <th></th>\n",
       "      <th></th>\n",
       "      <th>app_name</th>\n",
       "    </tr>\n",
       "    <tr>\n",
       "      <th>event_name</th>\n",
       "      <th>event_code</th>\n",
       "      <th>platform</th>\n",
       "      <th></th>\n",
       "    </tr>\n",
       "  </thead>\n",
       "  <tbody>\n",
       "    <tr>\n",
       "      <td rowspan=\"4\" valign=\"top\">impression_standard</td>\n",
       "      <td rowspan=\"2\" valign=\"top\">0db601a32123556ffaec586e32fb51f7c293124b</td>\n",
       "      <td>ANDROID</td>\n",
       "      <td>652240</td>\n",
       "    </tr>\n",
       "    <tr>\n",
       "      <td>IPHONE</td>\n",
       "      <td>137217</td>\n",
       "    </tr>\n",
       "    <tr>\n",
       "      <td rowspan=\"2\" valign=\"top\">8e96f5ed27fb1511a7a0e4785eef276a8a543f36</td>\n",
       "      <td>ANDROID</td>\n",
       "      <td>38747</td>\n",
       "    </tr>\n",
       "    <tr>\n",
       "      <td>IPHONE</td>\n",
       "      <td>21352</td>\n",
       "    </tr>\n",
       "    <tr>\n",
       "      <td rowspan=\"4\" valign=\"top\">match_end</td>\n",
       "      <td rowspan=\"2\" valign=\"top\">0815ffebc19b4bfca409284fff97376b574b67ce</td>\n",
       "      <td>ANDROID</td>\n",
       "      <td>64746</td>\n",
       "    </tr>\n",
       "    <tr>\n",
       "      <td>IPHONE</td>\n",
       "      <td>11865</td>\n",
       "    </tr>\n",
       "    <tr>\n",
       "      <td rowspan=\"2\" valign=\"top\">b471abe61ebcd5b468c180e4947166df86125cf7</td>\n",
       "      <td>ANDROID</td>\n",
       "      <td>1409</td>\n",
       "    </tr>\n",
       "    <tr>\n",
       "      <td>IPHONE</td>\n",
       "      <td>635</td>\n",
       "    </tr>\n",
       "    <tr>\n",
       "      <td rowspan=\"4\" valign=\"top\">match_quit</td>\n",
       "      <td rowspan=\"2\" valign=\"top\">86c914c92e664c4b9f26dbc98eff283492967ccd</td>\n",
       "      <td>ANDROID</td>\n",
       "      <td>813</td>\n",
       "    </tr>\n",
       "    <tr>\n",
       "      <td>IPHONE</td>\n",
       "      <td>345</td>\n",
       "    </tr>\n",
       "    <tr>\n",
       "      <td rowspan=\"2\" valign=\"top\">ab7faf2810718e30a095c6fe36b7a267367625bc</td>\n",
       "      <td>ANDROID</td>\n",
       "      <td>6695</td>\n",
       "    </tr>\n",
       "    <tr>\n",
       "      <td>IPHONE</td>\n",
       "      <td>818</td>\n",
       "    </tr>\n",
       "    <tr>\n",
       "      <td rowspan=\"4\" valign=\"top\">match_start</td>\n",
       "      <td rowspan=\"2\" valign=\"top\">0799dd02335be65d8a71f5f3d6d473456dcb3c2c</td>\n",
       "      <td>ANDROID</td>\n",
       "      <td>2581</td>\n",
       "    </tr>\n",
       "    <tr>\n",
       "      <td>IPHONE</td>\n",
       "      <td>1215</td>\n",
       "    </tr>\n",
       "    <tr>\n",
       "      <td rowspan=\"2\" valign=\"top\">78278a4d1aa7ab1300e24e0a2f75ffc1bc21e604</td>\n",
       "      <td>ANDROID</td>\n",
       "      <td>41559</td>\n",
       "    </tr>\n",
       "    <tr>\n",
       "      <td>IPHONE</td>\n",
       "      <td>7339</td>\n",
       "    </tr>\n",
       "    <tr>\n",
       "      <td rowspan=\"4\" valign=\"top\">tutorial_end</td>\n",
       "      <td rowspan=\"2\" valign=\"top\">9b9a5014c642d827d3d11d07ceb0936f950c377d</td>\n",
       "      <td>ANDROID</td>\n",
       "      <td>2114</td>\n",
       "    </tr>\n",
       "    <tr>\n",
       "      <td>IPHONE</td>\n",
       "      <td>309</td>\n",
       "    </tr>\n",
       "    <tr>\n",
       "      <td rowspan=\"2\" valign=\"top\">efe9d3a0cf169d7e3c60e7150a59aa8b49a1f3e1</td>\n",
       "      <td>ANDROID</td>\n",
       "      <td>206</td>\n",
       "    </tr>\n",
       "    <tr>\n",
       "      <td>IPHONE</td>\n",
       "      <td>82</td>\n",
       "    </tr>\n",
       "    <tr>\n",
       "      <td rowspan=\"4\" valign=\"top\">tutorial_quit</td>\n",
       "      <td rowspan=\"2\" valign=\"top\">76b5ede3ae7edbef4fb55521eb2f9662fd5a95c7</td>\n",
       "      <td>ANDROID</td>\n",
       "      <td>1966</td>\n",
       "    </tr>\n",
       "    <tr>\n",
       "      <td>IPHONE</td>\n",
       "      <td>276</td>\n",
       "    </tr>\n",
       "    <tr>\n",
       "      <td rowspan=\"2\" valign=\"top\">bdb223890d3a9b5d65563c9d71e977eebbc27e06</td>\n",
       "      <td>ANDROID</td>\n",
       "      <td>199</td>\n",
       "    </tr>\n",
       "    <tr>\n",
       "      <td>IPHONE</td>\n",
       "      <td>79</td>\n",
       "    </tr>\n",
       "    <tr>\n",
       "      <td rowspan=\"4\" valign=\"top\">tutorial_start</td>\n",
       "      <td rowspan=\"2\" valign=\"top\">4eff55d3d6e1636a75548de1e387439fdbcfb1c5</td>\n",
       "      <td>ANDROID</td>\n",
       "      <td>4065</td>\n",
       "    </tr>\n",
       "    <tr>\n",
       "      <td>IPHONE</td>\n",
       "      <td>550</td>\n",
       "    </tr>\n",
       "    <tr>\n",
       "      <td rowspan=\"2\" valign=\"top\">f8343507810b98d36d907f5c70609b86392ff062</td>\n",
       "      <td>ANDROID</td>\n",
       "      <td>418</td>\n",
       "    </tr>\n",
       "    <tr>\n",
       "      <td>IPHONE</td>\n",
       "      <td>160</td>\n",
       "    </tr>\n",
       "  </tbody>\n",
       "</table>\n",
       "</div>"
      ],
      "text/plain": [
       "                                                                       app_name\n",
       "event_name          event_code                               platform          \n",
       "impression_standard 0db601a32123556ffaec586e32fb51f7c293124b ANDROID     652240\n",
       "                                                             IPHONE      137217\n",
       "                    8e96f5ed27fb1511a7a0e4785eef276a8a543f36 ANDROID      38747\n",
       "                                                             IPHONE       21352\n",
       "match_end           0815ffebc19b4bfca409284fff97376b574b67ce ANDROID      64746\n",
       "                                                             IPHONE       11865\n",
       "                    b471abe61ebcd5b468c180e4947166df86125cf7 ANDROID       1409\n",
       "                                                             IPHONE         635\n",
       "match_quit          86c914c92e664c4b9f26dbc98eff283492967ccd ANDROID        813\n",
       "                                                             IPHONE         345\n",
       "                    ab7faf2810718e30a095c6fe36b7a267367625bc ANDROID       6695\n",
       "                                                             IPHONE         818\n",
       "match_start         0799dd02335be65d8a71f5f3d6d473456dcb3c2c ANDROID       2581\n",
       "                                                             IPHONE        1215\n",
       "                    78278a4d1aa7ab1300e24e0a2f75ffc1bc21e604 ANDROID      41559\n",
       "                                                             IPHONE        7339\n",
       "tutorial_end        9b9a5014c642d827d3d11d07ceb0936f950c377d ANDROID       2114\n",
       "                                                             IPHONE         309\n",
       "                    efe9d3a0cf169d7e3c60e7150a59aa8b49a1f3e1 ANDROID        206\n",
       "                                                             IPHONE          82\n",
       "tutorial_quit       76b5ede3ae7edbef4fb55521eb2f9662fd5a95c7 ANDROID       1966\n",
       "                                                             IPHONE         276\n",
       "                    bdb223890d3a9b5d65563c9d71e977eebbc27e06 ANDROID        199\n",
       "                                                             IPHONE          79\n",
       "tutorial_start      4eff55d3d6e1636a75548de1e387439fdbcfb1c5 ANDROID       4065\n",
       "                                                             IPHONE         550\n",
       "                    f8343507810b98d36d907f5c70609b86392ff062 ANDROID        418\n",
       "                                                             IPHONE         160"
      ]
     },
     "execution_count": 17,
     "metadata": {},
     "output_type": "execute_result"
    }
   ],
   "source": [
    "df[[ 'app_name', 'event_name', 'event_code', 'platform']].groupby(by=['event_name', 'event_code', 'platform']).count()"
   ]
  },
  {
   "cell_type": "markdown",
   "metadata": {},
   "source": [
    "Como esperado, cada um evento tem dois identificadores, um para cada plataforma que o app está instalado."
   ]
  },
  {
   "cell_type": "markdown",
   "metadata": {},
   "source": [
    "Há eventos repetidos no dataset, ou as linhas são únicas?\n"
   ]
  },
  {
   "cell_type": "code",
   "execution_count": 18,
   "metadata": {
    "scrolled": true
   },
   "outputs": [
    {
     "data": {
      "text/html": [
       "<div>\n",
       "<style scoped>\n",
       "    .dataframe tbody tr th:only-of-type {\n",
       "        vertical-align: middle;\n",
       "    }\n",
       "\n",
       "    .dataframe tbody tr th {\n",
       "        vertical-align: top;\n",
       "    }\n",
       "\n",
       "    .dataframe thead th {\n",
       "        text-align: right;\n",
       "    }\n",
       "</style>\n",
       "<table border=\"1\" class=\"dataframe\">\n",
       "  <thead>\n",
       "    <tr style=\"text-align: right;\">\n",
       "      <th></th>\n",
       "      <th>app_name</th>\n",
       "      <th>created_at_date</th>\n",
       "      <th>installed_at_date</th>\n",
       "      <th>event_name</th>\n",
       "      <th>event_code</th>\n",
       "      <th>country</th>\n",
       "      <th>user_id</th>\n",
       "      <th>platform</th>\n",
       "    </tr>\n",
       "  </thead>\n",
       "  <tbody>\n",
       "    <tr>\n",
       "      <td>13271</td>\n",
       "      <td>BURACO_ANDROID</td>\n",
       "      <td>2019-09-01 02:20:53</td>\n",
       "      <td>2019-09-01 02:01:09</td>\n",
       "      <td>tutorial_quit</td>\n",
       "      <td>76b5ede3ae7edbef4fb55521eb2f9662fd5a95c7</td>\n",
       "      <td>br</td>\n",
       "      <td>875</td>\n",
       "      <td>ANDROID</td>\n",
       "    </tr>\n",
       "    <tr>\n",
       "      <td>23644</td>\n",
       "      <td>BURACO_IPHONE</td>\n",
       "      <td>2019-09-03 00:29:57</td>\n",
       "      <td>2019-09-03 00:27:17</td>\n",
       "      <td>tutorial_quit</td>\n",
       "      <td>76b5ede3ae7edbef4fb55521eb2f9662fd5a95c7</td>\n",
       "      <td>br</td>\n",
       "      <td>4754</td>\n",
       "      <td>IPHONE</td>\n",
       "    </tr>\n",
       "    <tr>\n",
       "      <td>34214</td>\n",
       "      <td>BURACO_ANDROID</td>\n",
       "      <td>2019-09-01 02:20:45</td>\n",
       "      <td>2019-09-01 02:01:09</td>\n",
       "      <td>tutorial_quit</td>\n",
       "      <td>76b5ede3ae7edbef4fb55521eb2f9662fd5a95c7</td>\n",
       "      <td>br</td>\n",
       "      <td>875</td>\n",
       "      <td>ANDROID</td>\n",
       "    </tr>\n",
       "    <tr>\n",
       "      <td>55112</td>\n",
       "      <td>BURACO_ANDROID</td>\n",
       "      <td>2019-08-31 20:55:57</td>\n",
       "      <td>2019-08-26 13:00:31</td>\n",
       "      <td>match_start</td>\n",
       "      <td>78278a4d1aa7ab1300e24e0a2f75ffc1bc21e604</td>\n",
       "      <td>br</td>\n",
       "      <td>1793</td>\n",
       "      <td>ANDROID</td>\n",
       "    </tr>\n",
       "    <tr>\n",
       "      <td>56679</td>\n",
       "      <td>BURACO_ANDROID</td>\n",
       "      <td>2019-08-31 20:55:57</td>\n",
       "      <td>2019-08-26 13:00:31</td>\n",
       "      <td>match_start</td>\n",
       "      <td>78278a4d1aa7ab1300e24e0a2f75ffc1bc21e604</td>\n",
       "      <td>br</td>\n",
       "      <td>1793</td>\n",
       "      <td>ANDROID</td>\n",
       "    </tr>\n",
       "    <tr>\n",
       "      <td>...</td>\n",
       "      <td>...</td>\n",
       "      <td>...</td>\n",
       "      <td>...</td>\n",
       "      <td>...</td>\n",
       "      <td>...</td>\n",
       "      <td>...</td>\n",
       "      <td>...</td>\n",
       "      <td>...</td>\n",
       "    </tr>\n",
       "    <tr>\n",
       "      <td>917134</td>\n",
       "      <td>BURACO_ANDROID</td>\n",
       "      <td>2019-09-03 00:19:33</td>\n",
       "      <td>2019-09-03 00:12:42</td>\n",
       "      <td>tutorial_quit</td>\n",
       "      <td>76b5ede3ae7edbef4fb55521eb2f9662fd5a95c7</td>\n",
       "      <td>br</td>\n",
       "      <td>18814</td>\n",
       "      <td>ANDROID</td>\n",
       "    </tr>\n",
       "    <tr>\n",
       "      <td>925344</td>\n",
       "      <td>SPADES_ANDROID</td>\n",
       "      <td>2019-09-03 00:31:05</td>\n",
       "      <td>2019-08-25 03:51:08</td>\n",
       "      <td>impression_standard</td>\n",
       "      <td>8e96f5ed27fb1511a7a0e4785eef276a8a543f36</td>\n",
       "      <td>us</td>\n",
       "      <td>24521</td>\n",
       "      <td>ANDROID</td>\n",
       "    </tr>\n",
       "    <tr>\n",
       "      <td>933025</td>\n",
       "      <td>BURACO_ANDROID</td>\n",
       "      <td>2019-09-02 22:13:56</td>\n",
       "      <td>2019-09-01 23:23:00</td>\n",
       "      <td>impression_standard</td>\n",
       "      <td>0db601a32123556ffaec586e32fb51f7c293124b</td>\n",
       "      <td>br</td>\n",
       "      <td>21986</td>\n",
       "      <td>ANDROID</td>\n",
       "    </tr>\n",
       "    <tr>\n",
       "      <td>989640</td>\n",
       "      <td>BURACO_ANDROID</td>\n",
       "      <td>2019-08-27 03:05:04</td>\n",
       "      <td>2019-08-26 03:20:03</td>\n",
       "      <td>tutorial_quit</td>\n",
       "      <td>76b5ede3ae7edbef4fb55521eb2f9662fd5a95c7</td>\n",
       "      <td>br</td>\n",
       "      <td>13632</td>\n",
       "      <td>ANDROID</td>\n",
       "    </tr>\n",
       "    <tr>\n",
       "      <td>991574</td>\n",
       "      <td>BURACO_ANDROID</td>\n",
       "      <td>2019-08-27 03:05:03</td>\n",
       "      <td>2019-08-26 03:20:03</td>\n",
       "      <td>tutorial_quit</td>\n",
       "      <td>76b5ede3ae7edbef4fb55521eb2f9662fd5a95c7</td>\n",
       "      <td>br</td>\n",
       "      <td>13632</td>\n",
       "      <td>ANDROID</td>\n",
       "    </tr>\n",
       "  </tbody>\n",
       "</table>\n",
       "<p>107 rows × 8 columns</p>\n",
       "</div>"
      ],
      "text/plain": [
       "              app_name      created_at_date    installed_at_date  \\\n",
       "13271   BURACO_ANDROID  2019-09-01 02:20:53  2019-09-01 02:01:09   \n",
       "23644    BURACO_IPHONE  2019-09-03 00:29:57  2019-09-03 00:27:17   \n",
       "34214   BURACO_ANDROID  2019-09-01 02:20:45  2019-09-01 02:01:09   \n",
       "55112   BURACO_ANDROID  2019-08-31 20:55:57  2019-08-26 13:00:31   \n",
       "56679   BURACO_ANDROID  2019-08-31 20:55:57  2019-08-26 13:00:31   \n",
       "...                ...                  ...                  ...   \n",
       "917134  BURACO_ANDROID  2019-09-03 00:19:33  2019-09-03 00:12:42   \n",
       "925344  SPADES_ANDROID  2019-09-03 00:31:05  2019-08-25 03:51:08   \n",
       "933025  BURACO_ANDROID  2019-09-02 22:13:56  2019-09-01 23:23:00   \n",
       "989640  BURACO_ANDROID  2019-08-27 03:05:04  2019-08-26 03:20:03   \n",
       "991574  BURACO_ANDROID  2019-08-27 03:05:03  2019-08-26 03:20:03   \n",
       "\n",
       "                 event_name                                event_code country  \\\n",
       "13271         tutorial_quit  76b5ede3ae7edbef4fb55521eb2f9662fd5a95c7      br   \n",
       "23644         tutorial_quit  76b5ede3ae7edbef4fb55521eb2f9662fd5a95c7      br   \n",
       "34214         tutorial_quit  76b5ede3ae7edbef4fb55521eb2f9662fd5a95c7      br   \n",
       "55112           match_start  78278a4d1aa7ab1300e24e0a2f75ffc1bc21e604      br   \n",
       "56679           match_start  78278a4d1aa7ab1300e24e0a2f75ffc1bc21e604      br   \n",
       "...                     ...                                       ...     ...   \n",
       "917134        tutorial_quit  76b5ede3ae7edbef4fb55521eb2f9662fd5a95c7      br   \n",
       "925344  impression_standard  8e96f5ed27fb1511a7a0e4785eef276a8a543f36      us   \n",
       "933025  impression_standard  0db601a32123556ffaec586e32fb51f7c293124b      br   \n",
       "989640        tutorial_quit  76b5ede3ae7edbef4fb55521eb2f9662fd5a95c7      br   \n",
       "991574        tutorial_quit  76b5ede3ae7edbef4fb55521eb2f9662fd5a95c7      br   \n",
       "\n",
       "       user_id platform  \n",
       "13271      875  ANDROID  \n",
       "23644     4754   IPHONE  \n",
       "34214      875  ANDROID  \n",
       "55112     1793  ANDROID  \n",
       "56679     1793  ANDROID  \n",
       "...        ...      ...  \n",
       "917134   18814  ANDROID  \n",
       "925344   24521  ANDROID  \n",
       "933025   21986  ANDROID  \n",
       "989640   13632  ANDROID  \n",
       "991574   13632  ANDROID  \n",
       "\n",
       "[107 rows x 8 columns]"
      ]
     },
     "execution_count": 18,
     "metadata": {},
     "output_type": "execute_result"
    }
   ],
   "source": [
    "df.loc[df.duplicated(subset=None, keep='first')]"
   ]
  },
  {
   "cell_type": "code",
   "execution_count": 19,
   "metadata": {},
   "outputs": [
    {
     "data": {
      "text/plain": [
       "(999893, 8)"
      ]
     },
     "execution_count": 19,
     "metadata": {},
     "output_type": "execute_result"
    }
   ],
   "source": [
    "df.drop_duplicates(inplace=True)\n",
    "df.shape"
   ]
  },
  {
   "cell_type": "markdown",
   "metadata": {},
   "source": [
    "Com visto no resultado acima, há <b>107</b> eventos duplicados. Pode-se concluir então que há <b>999893</b> eventos no dataset.\n",
    "\n",
    "Deve-se retirar estes eventos:"
   ]
  },
  {
   "cell_type": "markdown",
   "metadata": {},
   "source": [
    "Verificando o número de usuários únicos."
   ]
  },
  {
   "cell_type": "code",
   "execution_count": 20,
   "metadata": {},
   "outputs": [
    {
     "data": {
      "text/plain": [
       "25081"
      ]
     },
     "execution_count": 20,
     "metadata": {},
     "output_type": "execute_result"
    }
   ],
   "source": [
    "len(df['user_id'].unique())"
   ]
  },
  {
   "cell_type": "markdown",
   "metadata": {},
   "source": [
    "Portanto, respondendo:\n",
    "\n",
    "1) Há <b>25081</b> usuários presentes na massa e <b>999893</b> eventos."
   ]
  },
  {
   "cell_type": "markdown",
   "metadata": {},
   "source": [
    "Uma das formas de responder a pergunta 2) é verificar o número de sessões agrupadas pela plataforma.\n",
    "Considerarei, que as sessões de jogos podem ser definidas pelo número de eventos que a plataforma têm, pois no grande escopo os eventos tendem a mostrar a maior utilização de uma determinada plataforma."
   ]
  },
  {
   "cell_type": "code",
   "execution_count": 21,
   "metadata": {},
   "outputs": [
    {
     "data": {
      "text/html": [
       "<div>\n",
       "<style scoped>\n",
       "    .dataframe tbody tr th:only-of-type {\n",
       "        vertical-align: middle;\n",
       "    }\n",
       "\n",
       "    .dataframe tbody tr th {\n",
       "        vertical-align: top;\n",
       "    }\n",
       "\n",
       "    .dataframe thead th {\n",
       "        text-align: right;\n",
       "    }\n",
       "</style>\n",
       "<table border=\"1\" class=\"dataframe\">\n",
       "  <thead>\n",
       "    <tr style=\"text-align: right;\">\n",
       "      <th></th>\n",
       "      <th>app_name</th>\n",
       "      <th>created_at_date</th>\n",
       "      <th>installed_at_date</th>\n",
       "      <th>event_name</th>\n",
       "      <th>event_code</th>\n",
       "      <th>country</th>\n",
       "      <th>user_id</th>\n",
       "    </tr>\n",
       "    <tr>\n",
       "      <th>platform</th>\n",
       "      <th></th>\n",
       "      <th></th>\n",
       "      <th></th>\n",
       "      <th></th>\n",
       "      <th></th>\n",
       "      <th></th>\n",
       "      <th></th>\n",
       "    </tr>\n",
       "  </thead>\n",
       "  <tbody>\n",
       "    <tr>\n",
       "      <td>ANDROID</td>\n",
       "      <td>817655</td>\n",
       "      <td>817655</td>\n",
       "      <td>817655</td>\n",
       "      <td>817655</td>\n",
       "      <td>817655</td>\n",
       "      <td>817655</td>\n",
       "      <td>817655</td>\n",
       "    </tr>\n",
       "    <tr>\n",
       "      <td>IPHONE</td>\n",
       "      <td>182238</td>\n",
       "      <td>182238</td>\n",
       "      <td>182238</td>\n",
       "      <td>182238</td>\n",
       "      <td>182238</td>\n",
       "      <td>182238</td>\n",
       "      <td>182238</td>\n",
       "    </tr>\n",
       "  </tbody>\n",
       "</table>\n",
       "</div>"
      ],
      "text/plain": [
       "          app_name  created_at_date  installed_at_date  event_name  \\\n",
       "platform                                                             \n",
       "ANDROID     817655           817655             817655      817655   \n",
       "IPHONE      182238           182238             182238      182238   \n",
       "\n",
       "          event_code  country  user_id  \n",
       "platform                                \n",
       "ANDROID       817655   817655   817655  \n",
       "IPHONE        182238   182238   182238  "
      ]
     },
     "execution_count": 21,
     "metadata": {},
     "output_type": "execute_result"
    }
   ],
   "source": [
    "df.groupby(by='platform').count()"
   ]
  },
  {
   "cell_type": "markdown",
   "metadata": {},
   "source": [
    "Desta forma, a plataforma <b>ANDROID</b> é a que possui mais sessão de jogos com 817655 eventos contra 182238 do <b>IPHONE</b>"
   ]
  },
  {
   "cell_type": "markdown",
   "metadata": {},
   "source": [
    "Para responder 3) primeiro transforma-se a coluna created_at_date em formato de datetime do python para que as análises sejam simplificadas."
   ]
  },
  {
   "cell_type": "code",
   "execution_count": 22,
   "metadata": {},
   "outputs": [],
   "source": [
    "df['created_at_date'] = pd.to_datetime(df['created_at_date'])"
   ]
  },
  {
   "cell_type": "code",
   "execution_count": 23,
   "metadata": {},
   "outputs": [
    {
     "data": {
      "text/plain": [
       "app_name                     object\n",
       "created_at_date      datetime64[ns]\n",
       "installed_at_date            object\n",
       "event_name                   object\n",
       "event_code                   object\n",
       "country                      object\n",
       "user_id                      object\n",
       "platform                     object\n",
       "dtype: object"
      ]
     },
     "execution_count": 23,
     "metadata": {},
     "output_type": "execute_result"
    }
   ],
   "source": [
    "df.dtypes"
   ]
  },
  {
   "cell_type": "markdown",
   "metadata": {},
   "source": [
    "Após a modificação feita, filtra-se para ver quais os usuários terminaram o tutorial"
   ]
  },
  {
   "cell_type": "code",
   "execution_count": 25,
   "metadata": {},
   "outputs": [],
   "source": [
    "tutorial_finished = df.copy().loc[df.copy()['event_name'] == 'tutorial_quit']"
   ]
  },
  {
   "cell_type": "code",
   "execution_count": 26,
   "metadata": {},
   "outputs": [
    {
     "data": {
      "text/plain": [
       "(2496, 8)"
      ]
     },
     "execution_count": 26,
     "metadata": {},
     "output_type": "execute_result"
    }
   ],
   "source": [
    "tutorial_finished.shape"
   ]
  },
  {
   "cell_type": "code",
   "execution_count": 27,
   "metadata": {},
   "outputs": [
    {
     "data": {
      "text/plain": [
       "2306"
      ]
     },
     "execution_count": 27,
     "metadata": {},
     "output_type": "execute_result"
    }
   ],
   "source": [
    "len(tutorial_finished['user_id'].unique())"
   ]
  },
  {
   "cell_type": "markdown",
   "metadata": {},
   "source": [
    "Ou seja, <b>2306</b> usuários únicos assistiram o tutorial.\n",
    "\n",
    "Agora, define-se um dataframe com as últimas mofificações por <b>user_id</b>"
   ]
  },
  {
   "cell_type": "code",
   "execution_count": 28,
   "metadata": {},
   "outputs": [
    {
     "data": {
      "text/plain": [
       "(25081, 8)"
      ]
     },
     "execution_count": 28,
     "metadata": {},
     "output_type": "execute_result"
    }
   ],
   "source": [
    "last_events = df.sort_values('created_at_date', ascending=False).drop_duplicates(subset=['user_id'])\n",
    "last_events.shape"
   ]
  },
  {
   "cell_type": "code",
   "execution_count": 29,
   "metadata": {},
   "outputs": [
    {
     "data": {
      "text/plain": [
       "(2306, 8)"
      ]
     },
     "execution_count": 29,
     "metadata": {},
     "output_type": "execute_result"
    }
   ],
   "source": [
    "tutorial_finished = tutorial_finished.sort_values('created_at_date', ascending=False).drop_duplicates(subset='user_id')\n",
    "tutorial_finished.shape"
   ]
  },
  {
   "cell_type": "markdown",
   "metadata": {},
   "source": [
    "Fazendo um merge entre last_events e tutorial_finished para verificar qual foi o ultimo evento dos usuários que terminaram o tutorial:"
   ]
  },
  {
   "cell_type": "code",
   "execution_count": 30,
   "metadata": {},
   "outputs": [],
   "source": [
    "comparison_df = tutorial_finished.merge(last_events[['user_id', 'created_at_date', 'event_name']], on='user_id', suffixes=('','_last'))"
   ]
  },
  {
   "cell_type": "markdown",
   "metadata": {},
   "source": [
    "Excluindo aqueles que tiveram como último evento o termino do turial"
   ]
  },
  {
   "cell_type": "code",
   "execution_count": 31,
   "metadata": {},
   "outputs": [
    {
     "data": {
      "text/plain": [
       "(2149, 10)"
      ]
     },
     "execution_count": 31,
     "metadata": {},
     "output_type": "execute_result"
    }
   ],
   "source": [
    "comparison_df = comparison_df.loc[comparison_df['event_name_last']!=comparison_df['event_name']]\n",
    "comparison_df.shape"
   ]
  },
  {
   "cell_type": "code",
   "execution_count": 32,
   "metadata": {},
   "outputs": [],
   "source": [
    "def abandon_game(line):\n",
    "    return line['created_at_date_last']-line['created_at_date'] < timedelta(3)"
   ]
  },
  {
   "cell_type": "markdown",
   "metadata": {},
   "source": [
    "Crio agora uma coluna com valor booleano para identificar se o evento ocorreu <b> 3 dias ou menos</b> o que indica que o usuário não jogou depois do prazo de 3 dias para consideração de abandono. "
   ]
  },
  {
   "cell_type": "code",
   "execution_count": 33,
   "metadata": {},
   "outputs": [],
   "source": [
    "comparison_df['abandon'] = comparison_df.apply(lambda row: abandon_game(row), axis=1)"
   ]
  },
  {
   "cell_type": "code",
   "execution_count": 34,
   "metadata": {},
   "outputs": [
    {
     "data": {
      "text/plain": [
       "(1974, 11)"
      ]
     },
     "execution_count": 34,
     "metadata": {},
     "output_type": "execute_result"
    }
   ],
   "source": [
    "comparison_df[comparison_df['abandon']==True].shape"
   ]
  },
  {
   "cell_type": "markdown",
   "metadata": {},
   "source": [
    "Ou seja, <b>1974</b> usuários abandonaram o jogo após assistir o tutorial. (considerando que seu ultimo evento ocorreu em até 3 dias depois de o tê-lo assistido)"
   ]
  },
  {
   "cell_type": "markdown",
   "metadata": {},
   "source": [
    "Definindo a função pedida em 4) :"
   ]
  },
  {
   "cell_type": "code",
   "execution_count": 39,
   "metadata": {},
   "outputs": [],
   "source": [
    "def time_hours(user_id):\n",
    "    print(user_id)\n",
    "    initial = df.loc[df['user_id']==user_id].sort_values('created_at_date')['created_at_date'].iloc[0]\n",
    "    end = df.loc[df['user_id']==user_id].sort_values('created_at_date', ascending=False)['created_at_date'].iloc[0]\n",
    "    return [user_id, round((end-initial).seconds/3600,2)]\n"
   ]
  },
  {
   "cell_type": "markdown",
   "metadata": {},
   "source": [
    "Descobrindo o número de pessoas que jogaram até 5 dias e depois pararam:"
   ]
  },
  {
   "cell_type": "code",
   "execution_count": null,
   "metadata": {},
   "outputs": [],
   "source": [
    "series = [time_hours(user) for user in df['user_id'].unique()]"
   ]
  },
  {
   "cell_type": "code",
   "execution_count": null,
   "metadata": {},
   "outputs": [],
   "source": [
    "user_hours = pd.DataFrame"
   ]
  },
  {
   "cell_type": "code",
   "execution_count": null,
   "metadata": {},
   "outputs": [],
   "source": [
    "more_5days = user_hours[user_hours['hours'] > 120]\n",
    "print(more_5days['hours'].mean())\n",
    "print(more_5days['hours'].std())"
   ]
  },
  {
   "cell_type": "markdown",
   "metadata": {},
   "source": [
    "### Concluões"
   ]
  },
  {
   "cell_type": "code",
   "execution_count": null,
   "metadata": {},
   "outputs": [],
   "source": []
  },
  {
   "cell_type": "code",
   "execution_count": null,
   "metadata": {},
   "outputs": [],
   "source": []
  }
 ],
 "metadata": {
  "kernelspec": {
   "display_name": "Python 3",
   "language": "python",
   "name": "python3"
  },
  "language_info": {
   "codemirror_mode": {
    "name": "ipython",
    "version": 3
   },
   "file_extension": ".py",
   "mimetype": "text/x-python",
   "name": "python",
   "nbconvert_exporter": "python",
   "pygments_lexer": "ipython3",
   "version": "3.7.4"
  }
 },
 "nbformat": 4,
 "nbformat_minor": 2
}
